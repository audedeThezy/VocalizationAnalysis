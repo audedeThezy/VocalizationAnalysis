{
 "cells": [
  {
   "cell_type": "code",
   "execution_count": 1,
   "metadata": {},
   "outputs": [
    {
     "name": "stderr",
     "output_type": "stream",
     "text": [
      "C:\\Users\\de Witasse Thézy\\AppData\\Roaming\\Python\\Python38\\site-packages\\pandas\\core\\computation\\expressions.py:20: UserWarning: Pandas requires version '2.7.3' or newer of 'numexpr' (version '2.7.1' currently installed).\n",
      "  from pandas.core.computation.check import NUMEXPR_INSTALLED\n",
      "C:\\ProgramData\\Anaconda3\\lib\\site-packages\\libf0\\salience.py:440: RuntimeWarning: invalid value encountered in cast\n",
      "  bin_index = np.floor((1200 / R) * np.log2(F / F_ref) + 0.5).astype(np.int64)\n",
      "C:\\ProgramData\\Anaconda3\\lib\\site-packages\\libf0\\salience.py:440: RuntimeWarning: invalid value encountered in cast\n",
      "  bin_index = np.floor((1200 / R) * np.log2(F / F_ref) + 0.5).astype(np.int64)\n",
      "C:\\Users\\de Witasse Thézy\\AppData\\Roaming\\Python\\Python38\\site-packages\\numpy\\core\\fromnumeric.py:3464: RuntimeWarning: Mean of empty slice.\n",
      "  return _methods._mean(a, axis=axis, dtype=dtype,\n",
      "C:\\Users\\de Witasse Thézy\\AppData\\Roaming\\Python\\Python38\\site-packages\\numpy\\core\\_methods.py:192: RuntimeWarning: invalid value encountered in scalar divide\n",
      "  ret = ret.dtype.type(ret / rcount)\n"
     ]
    }
   ],
   "source": [
    "import os\n",
    "import math\n",
    "import glob\n",
    "import librosa\n",
    "import time\n",
    "import libf0\n",
    "import statistics\n",
    "import numpy as np\n",
    "import pandas as pd\n",
    "from scipy import signal\n",
    "from skimage.restoration import denoise_tv_chambolle\n",
    "from scipy.io import wavfile\n",
    "import matplotlib.pyplot as plt\n",
    "from matplotlib import gridspec\n",
    "import seaborn as sns\n",
    "from scipy.stats import ttest_1samp\n",
    "from RecordingAnalysis4 import ExtractFeaturesRecordings\n",
    "\n",
    "from ipywidgets import interact, interactive, fixed, interact_manual, IntSlider\n",
    "import ipywidgets as widgets"
   ]
  },
  {
   "cell_type": "code",
   "execution_count": 24,
   "metadata": {},
   "outputs": [],
   "source": [
    "basepath1 = \"D:\\\\data\\\\playbackT01\\\\ch2\"\n",
    "basepath2 = \"D:\\\\data\\\\playback2T01\\\\ch2\"\n",
    "basepath = basepath1\n",
    "####\n",
    "\n",
    "#reference_df = pd.read_csv(\"D:\\\\data\\\\playbackT01\\\\manual_duration.csv\")\n",
    "#reference_df.columns = [\"Filename\", \"True_Duration\"]\n",
    "#reference_df['VocNumber'] = Freference_df.groupby('Filename').cumcount()\n",
    "\n",
    "Freference_df = pd.read_csv(\"D:\\\\data\\\\playbackT01\\\\beg_end_freq.csv\")\n",
    "Freference_df.columns = [\"Filename\", \"True_BeginningFrequency\", \"True_EndFrequency\"]\n",
    "Freference_df['VocNumber'] = Freference_df.groupby('Filename').cumcount()"
   ]
  },
  {
   "cell_type": "code",
   "execution_count": 22,
   "metadata": {},
   "outputs": [],
   "source": [
    "def BetterOptimizationScore(params, X_train=None, y_train=None,reference_df=Freference_df,trade_off_factor=1):\n",
    "    h, n, fmin,width = params['h'], params['n'], params['fmin'], params['width']\n",
    "    weight, tol = 0.5, 9 #params.weight, params.width, params.tol\n",
    "\n",
    "    file_paths = glob.glob(os.path.join(basepath, '*.wav'))\n",
    "\n",
    "    start_time = time.time()\n",
    "    generated_df = ExtractFeaturesRecordings(file_paths, h=h,n=n, fmin=fmin, weight=weight, width=width, tol=tol)\n",
    "    execution_time = time.time() - start_time\n",
    "\n",
    "    generated_df['Filename'] = generated_df['Filename'].astype(int)\n",
    "    generated_df['VocNumber'] = generated_df.groupby('Filename').cumcount()\n",
    "    # Merge with reference_df to fill missing lines with zero values\n",
    "    merged_df = pd.merge(reference_df, generated_df, on=['Filename', 'VocNumber'], how='left').fillna(0)\n",
    "\n",
    "    # Add 'actual' column\n",
    "    merged_df['actual'] = merged_df['True_BeginningFrequency'] > 0\n",
    "    # Add 'prediction' column\n",
    "    merged_df['prediction'] = merged_df['BeginningFrequency'] > 0\n",
    "\n",
    "\n",
    "    true_negatives = merged_df[(merged_df['actual'] == False) & (merged_df['prediction'] == False)]\n",
    "    true_positives = merged_df[(merged_df['actual'] == True) & (merged_df['prediction'] == True)]\n",
    "\n",
    "    #start_freq_mae = np.abs(true_positives['BeginningFrequency'] - true_positives['True_BeginningFrequency']).mean()\n",
    "    #end_freq_mae = np.abs(true_positives['EndFrequency'] - true_positives['True_EndFrequency']).mean()\n",
    "\n",
    "    start_freq_index = (np.abs(true_positives['BeginningFrequency'] - true_positives['True_BeginningFrequency'])/true_positives['True_BeginningFrequency']).mean()\n",
    "    end_freq_index = (np.abs(true_positives['EndFrequency'] - true_positives['True_EndFrequency'])/true_positives['True_EndFrequency']).mean()\n",
    "\n",
    "\n",
    "    # You can compute an overall accuracy index by averaging or combining the MAE values\n",
    "    accuracy_index = (start_freq_index + end_freq_index) / 2.0\n",
    "    combined_score = - accuracy_index - trade_off_factor * execution_time/len(file_paths)\n",
    "    print(params, combined_score)\n",
    "\n",
    "    return (combined_score, accuracy_index, execution_time/len(file_paths))"
   ]
  },
  {
   "cell_type": "code",
   "execution_count": 14,
   "metadata": {},
   "outputs": [],
   "source": [
    "def classif_accuracy(params, X_train=None, y_train=None,reference_df=Freference_df,trade_off_factor=1):\n",
    "    h, n, fmin = params['h'], params['n'], params['fmin']\n",
    "    weight, width, tol = 0.5, 20, 9 #params.weight, params.width, params.tol\n",
    "    \n",
    "    file_paths = glob.glob(os.path.join(basepath, '*.wav'))\n",
    "    \n",
    "    start_time = time.time()\n",
    "    generated_df = ExtractFeaturesRecordings(file_paths, h=h,n=n, fmin=fmin, weight=weight, width=width, tol=tol)\n",
    "    execution_time = time.time() - start_time\n",
    "    display(generated_df)\n",
    "    generated_df['Filename'] = generated_df['Filename'].astype(int)\n",
    "    generated_df['VocNumber'] = generated_df.groupby('Filename').cumcount()\n",
    "    # Merge with reference_df to fill missing lines with zero values\n",
    "    merged_df = pd.merge(reference_df, generated_df, on=['Filename', 'VocNumber'], how='left').fillna(0)\n",
    "    \n",
    "    # Add 'actual' column\n",
    "    merged_df['actual'] = merged_df['True_BeginningFrequency'] > 0\n",
    "    # Add 'prediction' column\n",
    "    merged_df['prediction'] = merged_df['BeginningFrequency'] > 0\n",
    "\n",
    "    true_negatives = merged_df[(merged_df['actual'] == False) & (merged_df['prediction'] == False)]\n",
    "    true_positives = merged_df[(merged_df['actual'] == True) & (merged_df['prediction'] == True)]\n",
    "    \n",
    "    confusion_accuracy = (len(true_positives)+len(true_negatives))/len(merged_df)\n",
    "    \n",
    "    return confusion_accuracy"
   ]
  },
  {
   "cell_type": "code",
   "execution_count": 25,
   "metadata": {},
   "outputs": [
    {
     "name": "stderr",
     "output_type": "stream",
     "text": [
      "C:\\ProgramData\\Anaconda3\\lib\\site-packages\\libf0\\salience.py:440: RuntimeWarning: invalid value encountered in cast\n",
      "  bin_index = np.floor((1200 / R) * np.log2(F / F_ref) + 0.5).astype(np.int64)\n",
      "C:\\Users\\de Witasse Thézy\\AppData\\Roaming\\Python\\Python38\\site-packages\\numpy\\core\\fromnumeric.py:3464: RuntimeWarning: Mean of empty slice.\n",
      "  return _methods._mean(a, axis=axis, dtype=dtype,\n",
      "C:\\Users\\de Witasse Thézy\\AppData\\Roaming\\Python\\Python38\\site-packages\\numpy\\core\\_methods.py:192: RuntimeWarning: invalid value encountered in scalar divide\n",
      "  ret = ret.dtype.type(ret / rcount)\n"
     ]
    },
    {
     "name": "stdout",
     "output_type": "stream",
     "text": [
      "{'h': 1100, 'n': 1100, 'fmin': 38141, 'width': 5} -0.07911127745927846\n"
     ]
    },
    {
     "data": {
      "text/plain": [
       "(-0.07911127745927846, 0.04510486728437882, 0.03400641017489963)"
      ]
     },
     "execution_count": 25,
     "metadata": {},
     "output_type": "execute_result"
    }
   ],
   "source": [
    "h=1100\n",
    "n=1100\n",
    "fmin=38141\n",
    "width=5\n",
    "\n",
    "BetterOptimizationScore({'h' : h, 'n' : n, 'fmin' : fmin,'width':width}, \n",
    "                        X_train=None, y_train=None,\n",
    "                        reference_df=Freference_df,\n",
    "                        trade_off_factor=1)"
   ]
  },
  {
   "cell_type": "code",
   "execution_count": 10,
   "metadata": {},
   "outputs": [
    {
     "name": "stderr",
     "output_type": "stream",
     "text": [
      "C:\\ProgramData\\Anaconda3\\lib\\site-packages\\libf0\\salience.py:440: RuntimeWarning: invalid value encountered in cast\n",
      "  bin_index = np.floor((1200 / R) * np.log2(F / F_ref) + 0.5).astype(np.int64)\n"
     ]
    },
    {
     "data": {
      "text/html": [
       "<div>\n",
       "<style scoped>\n",
       "    .dataframe tbody tr th:only-of-type {\n",
       "        vertical-align: middle;\n",
       "    }\n",
       "\n",
       "    .dataframe tbody tr th {\n",
       "        vertical-align: top;\n",
       "    }\n",
       "\n",
       "    .dataframe thead th {\n",
       "        text-align: right;\n",
       "    }\n",
       "</style>\n",
       "<table border=\"1\" class=\"dataframe\">\n",
       "  <thead>\n",
       "    <tr style=\"text-align: right;\">\n",
       "      <th></th>\n",
       "      <th>Filename</th>\n",
       "      <th>Frequency</th>\n",
       "      <th>Duration</th>\n",
       "      <th>BeginningFrequency</th>\n",
       "      <th>EndFrequency</th>\n",
       "    </tr>\n",
       "  </thead>\n",
       "  <tbody>\n",
       "    <tr>\n",
       "      <th>0</th>\n",
       "      <td>0000337</td>\n",
       "      <td>63110.776213</td>\n",
       "      <td>0.01736</td>\n",
       "      <td>64146.643288</td>\n",
       "      <td>62681.53193</td>\n",
       "    </tr>\n",
       "    <tr>\n",
       "      <th>1</th>\n",
       "      <td>0000341</td>\n",
       "      <td>65280.513400</td>\n",
       "      <td>0.02480</td>\n",
       "      <td>67569.574627</td>\n",
       "      <td>60197.64742</td>\n",
       "    </tr>\n",
       "  </tbody>\n",
       "</table>\n",
       "</div>"
      ],
      "text/plain": [
       "  Filename     Frequency  Duration  BeginningFrequency  EndFrequency\n",
       "0  0000337  63110.776213   0.01736        64146.643288   62681.53193\n",
       "1  0000341  65280.513400   0.02480        67569.574627   60197.64742"
      ]
     },
     "metadata": {},
     "output_type": "display_data"
    },
    {
     "data": {
      "text/plain": [
       "0.058823529411764705"
      ]
     },
     "execution_count": 10,
     "metadata": {},
     "output_type": "execute_result"
    }
   ],
   "source": [
    "classif_accuracy({'h' : h, 'n' : n, 'fmin' : fmin}, \n",
    "                X_train=None, y_train=None,\n",
    "                reference_df=Freference_df,\n",
    "                trade_off_factor=1)"
   ]
  },
  {
   "cell_type": "code",
   "execution_count": 7,
   "metadata": {},
   "outputs": [
    {
     "data": {
      "text/plain": [
       "0.12975670231713188"
      ]
     },
     "execution_count": 7,
     "metadata": {},
     "output_type": "execute_result"
    }
   ],
   "source": [
    "file_paths = glob.glob(os.path.join(basepath, '*.wav'))\n",
    "4.671241283416748/len(file_paths)"
   ]
  },
  {
   "cell_type": "code",
   "execution_count": null,
   "metadata": {},
   "outputs": [],
   "source": []
  }
 ],
 "metadata": {
  "kernelspec": {
   "display_name": "Python 3",
   "language": "python",
   "name": "python3"
  },
  "language_info": {
   "codemirror_mode": {
    "name": "ipython",
    "version": 3
   },
   "file_extension": ".py",
   "mimetype": "text/x-python",
   "name": "python",
   "nbconvert_exporter": "python",
   "pygments_lexer": "ipython3",
   "version": "3.8.3"
  }
 },
 "nbformat": 4,
 "nbformat_minor": 4
}
